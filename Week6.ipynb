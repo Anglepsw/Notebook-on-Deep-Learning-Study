{
 "cells": [
  {
   "cell_type": "markdown",
   "metadata": {},
   "source": [
    "# Week6 笔记\n",
    "本周课程的内容都是围绕优化方法展开的，即各种对梯度下降方法的改良，以寻求更好的优化效果。\n",
    "- Mini-Batch梯度下降（Gradient descent）\n",
    "- 带动量（momentum）的梯度下降\n",
    "- RMSprop算法（与带动量的梯度下降类似）\n",
    "- Adam算法（综合带动量的梯度下降和RMSprop）\n",
    "\n",
    "接下来开始总结课程内容\n",
    "##### Mini-Batch梯度下降\n",
    "&emsp;&emsp;Mini-Batch梯度下降是介于Batch梯度下降（BSD）和随机梯度下降（SGD）之间的。Batch梯度下降一次迭代中（指进行一次梯度下降）利用向量化操作同时遍历所有样本，SGD则一次迭代中对单个样本进行操作。当数据集样本数小的时候（如1000个样本），这两种方法效果都不错。但当数据集样本数很大时（如1,000,000），那么用BSD迭代一次耗时很久而且容易溢出，SGD遍历每一个就会抖动的非常厉害，相当于引入了噪声。Mini-Batch梯度下降就是将这一百万的样本划分成多个小样本集，比如每组的Mini-size取为1000，共1000组。然后利用每组进行一次梯度下降。所以三种的区别总结起来就是：  \n",
    "\n",
    "| |SGD|Mini-Batch GD|BGD|\n",
    "|:-|:-:|:-:|:-:|\n",
    "|样本数|1|mini-size|m|\n",
    "|缺点|不能利用向量化加速学习，而且要调小学习率|-|训练时间太久|\n",
    "|特点|搜索路径曲折(图1紫)|搜索路径相对曲折（图1绿）|搜索路径相对平滑（图1蓝）|\n",
    "|特点|-|代价函数抖动着下降|代价函数光滑下降|\n",
    "<caption><center> <u>Table 1</u>: 三种梯度下降比较</center></caption>\n",
    "\n",
    "<img src=\"./images/06-01-搜索路径.png\" style=\"width:200px;height:200px;\">\n",
    "<caption><center> <u>Figure 1</u>: 三种梯度下降搜索路径(引自DL课程PPT)</center></caption>\n",
    "<img src=\"./images/06-02-代价函数下降.png\" style=\"width:700px;height:250px;\">\n",
    "<caption><center> <u>Figure 2</u>: 代价函数下降(引自DL课程PPT)</center></caption>\n",
    "\n",
    "##### Mini-Batch size的选择\n",
    "##### Mini-Batch算法实现"
   ]
  },
  {
   "cell_type": "code",
   "execution_count": null,
   "metadata": {
    "collapsed": true
   },
   "outputs": [],
   "source": []
  }
 ],
 "metadata": {
  "kernelspec": {
   "display_name": "Python 3",
   "language": "python",
   "name": "python3"
  },
  "language_info": {
   "codemirror_mode": {
    "name": "ipython",
    "version": 3
   },
   "file_extension": ".py",
   "mimetype": "text/x-python",
   "name": "python",
   "nbconvert_exporter": "python",
   "pygments_lexer": "ipython3",
   "version": "3.5.2"
  }
 },
 "nbformat": 4,
 "nbformat_minor": 2
}
