{
 "cells": [
  {
   "cell_type": "markdown",
   "metadata": {},
   "source": [
    "# Week7 笔记\n",
    "本周的内容包括\n",
    "- 超参数的调节\n",
    "- Batch Normalization\n",
    "- 利用softmax函数实现多分类\n",
    "- DL的常见程序框架\n",
    "\n",
    "&emsp;&emsp;目前常见的DL程序框架无非就是TensorFlow之类的，NG重点介绍了Tensor FLow。这种框架一般的学习方法是了解该框架的基本结构和语法后，然后对照官方的说明文档直接边查变用，上手最快。两个传送门：\n",
    "[TensorFlow中文社区](http://www.tensorfly.cn/  \"TensorFlow中文社区\")\n",
    "[TensorFlow官网](https://www.tensorflow.org/ \"TensorFlow官网\")（请根据需要科学上网，手动滑稽）"
   ]
  },
  {
   "cell_type": "code",
   "execution_count": null,
   "metadata": {
    "collapsed": true
   },
   "outputs": [],
   "source": []
  }
 ],
 "metadata": {
  "kernelspec": {
   "display_name": "Python 3",
   "language": "python",
   "name": "python3"
  },
  "language_info": {
   "codemirror_mode": {
    "name": "ipython",
    "version": 3
   },
   "file_extension": ".py",
   "mimetype": "text/x-python",
   "name": "python",
   "nbconvert_exporter": "python",
   "pygments_lexer": "ipython3",
   "version": "3.5.2"
  }
 },
 "nbformat": 4,
 "nbformat_minor": 2
}
